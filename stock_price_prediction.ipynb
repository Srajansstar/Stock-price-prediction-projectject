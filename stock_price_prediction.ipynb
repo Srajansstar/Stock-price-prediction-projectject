{
  "nbformat": 4,
  "nbformat_minor": 0,
  "metadata": {
    "colab": {
      "provenance": [],
      "authorship_tag": "ABX9TyNVw9VdI+DUaP2/WRdnrKi4",
      "include_colab_link": true
    },
    "kernelspec": {
      "name": "python3",
      "display_name": "Python 3"
    },
    "language_info": {
      "name": "python"
    }
  },
  "cells": [
    {
      "cell_type": "markdown",
      "metadata": {
        "id": "view-in-github",
        "colab_type": "text"
      },
      "source": [
        "<a href=\"https://colab.research.google.com/github/Srajansstar/Stock-price-prediction-projectject/blob/main/stock_price_prediction.ipynb\" target=\"_parent\"><img src=\"https://colab.research.google.com/assets/colab-badge.svg\" alt=\"Open In Colab\"/></a>"
      ]
    },
    {
      "cell_type": "code",
      "execution_count": null,
      "metadata": {
        "colab": {
          "base_uri": "https://localhost:8080/"
        },
        "id": "BsyFzKVlNFwO",
        "outputId": "564395da-8d02-47a0-f4b2-f033d67d2695"
      },
      "outputs": [
        {
          "output_type": "stream",
          "name": "stdout",
          "text": [
            "Requirement already satisfied: yfinance in /usr/local/lib/python3.10/dist-packages (0.2.41)\n",
            "Requirement already satisfied: pandas>=1.3.0 in /usr/local/lib/python3.10/dist-packages (from yfinance) (2.1.4)\n",
            "Requirement already satisfied: numpy>=1.16.5 in /usr/local/lib/python3.10/dist-packages (from yfinance) (1.26.4)\n",
            "Requirement already satisfied: requests>=2.31 in /usr/local/lib/python3.10/dist-packages (from yfinance) (2.32.3)\n",
            "Requirement already satisfied: multitasking>=0.0.7 in /usr/local/lib/python3.10/dist-packages (from yfinance) (0.0.11)\n",
            "Requirement already satisfied: lxml>=4.9.1 in /usr/local/lib/python3.10/dist-packages (from yfinance) (4.9.4)\n",
            "Requirement already satisfied: platformdirs>=2.0.0 in /usr/local/lib/python3.10/dist-packages (from yfinance) (4.2.2)\n",
            "Requirement already satisfied: pytz>=2022.5 in /usr/local/lib/python3.10/dist-packages (from yfinance) (2024.1)\n",
            "Requirement already satisfied: frozendict>=2.3.4 in /usr/local/lib/python3.10/dist-packages (from yfinance) (2.4.4)\n",
            "Requirement already satisfied: peewee>=3.16.2 in /usr/local/lib/python3.10/dist-packages (from yfinance) (3.17.6)\n",
            "Requirement already satisfied: beautifulsoup4>=4.11.1 in /usr/local/lib/python3.10/dist-packages (from yfinance) (4.12.3)\n",
            "Requirement already satisfied: html5lib>=1.1 in /usr/local/lib/python3.10/dist-packages (from yfinance) (1.1)\n",
            "Requirement already satisfied: soupsieve>1.2 in /usr/local/lib/python3.10/dist-packages (from beautifulsoup4>=4.11.1->yfinance) (2.5)\n",
            "Requirement already satisfied: six>=1.9 in /usr/local/lib/python3.10/dist-packages (from html5lib>=1.1->yfinance) (1.16.0)\n",
            "Requirement already satisfied: webencodings in /usr/local/lib/python3.10/dist-packages (from html5lib>=1.1->yfinance) (0.5.1)\n",
            "Requirement already satisfied: python-dateutil>=2.8.2 in /usr/local/lib/python3.10/dist-packages (from pandas>=1.3.0->yfinance) (2.8.2)\n",
            "Requirement already satisfied: tzdata>=2022.1 in /usr/local/lib/python3.10/dist-packages (from pandas>=1.3.0->yfinance) (2024.1)\n",
            "Requirement already satisfied: charset-normalizer<4,>=2 in /usr/local/lib/python3.10/dist-packages (from requests>=2.31->yfinance) (3.3.2)\n",
            "Requirement already satisfied: idna<4,>=2.5 in /usr/local/lib/python3.10/dist-packages (from requests>=2.31->yfinance) (3.7)\n",
            "Requirement already satisfied: urllib3<3,>=1.21.1 in /usr/local/lib/python3.10/dist-packages (from requests>=2.31->yfinance) (2.0.7)\n",
            "Requirement already satisfied: certifi>=2017.4.17 in /usr/local/lib/python3.10/dist-packages (from requests>=2.31->yfinance) (2024.7.4)\n"
          ]
        }
      ],
      "source": [
        "!pip install yfinance\n"
      ]
    },
    {
      "cell_type": "code",
      "source": [
        "#import all libraries\n",
        "import numpy as np\n",
        "import pandas as pd\n",
        "import matplotlib.pyplot as plt\n",
        "import seaborn as sns\n",
        "import yfinance as yf\n",
        "%matplotlib inline"
      ],
      "metadata": {
        "id": "O6lLdTgwNaCq"
      },
      "execution_count": null,
      "outputs": []
    },
    {
      "cell_type": "code",
      "source": [
        "# take input\n",
        "stocks=input(\"give the code of stock to download \")\n",
        "data = yf.download(stocks , \"2019-05-01\",\"2024-08-16\" , auto_adjust =True) # download the datta from yahoo finance from the date to date\n",
        "data.head()\n",
        "\n",
        "#RVNL.BO"
      ],
      "metadata": {
        "colab": {
          "base_uri": "https://localhost:8080/",
          "height": 272
        },
        "id": "ekM5qiylNsVU",
        "outputId": "3502996d-a842-4c6d-b67e-03294e357bc8"
      },
      "execution_count": null,
      "outputs": [
        {
          "name": "stdout",
          "output_type": "stream",
          "text": [
            "give the code of stock to download RVNL.BO\n"
          ]
        },
        {
          "output_type": "stream",
          "name": "stderr",
          "text": [
            "\r[*********************100%%**********************]  1 of 1 completed\n"
          ]
        },
        {
          "output_type": "execute_result",
          "data": {
            "text/plain": [
              "                 Open       High        Low      Close   Volume\n",
              "Date                                                           \n",
              "2019-05-02  18.366936  20.412345  18.366936  19.953171  2548214\n",
              "2019-05-03  20.203629  20.370601  19.285282  19.368769   716700\n",
              "2019-05-06  19.160057  19.285286  18.659140  18.951342   643065\n",
              "2019-05-07  19.160055  19.660970  18.951340  18.993082   481594\n",
              "2019-05-08  19.076570  19.160057  18.784369  18.909597   388315"
            ],
            "text/html": [
              "\n",
              "  <div id=\"df-4ac04109-74ef-4ae1-914d-4d830aad5a8c\" class=\"colab-df-container\">\n",
              "    <div>\n",
              "<style scoped>\n",
              "    .dataframe tbody tr th:only-of-type {\n",
              "        vertical-align: middle;\n",
              "    }\n",
              "\n",
              "    .dataframe tbody tr th {\n",
              "        vertical-align: top;\n",
              "    }\n",
              "\n",
              "    .dataframe thead th {\n",
              "        text-align: right;\n",
              "    }\n",
              "</style>\n",
              "<table border=\"1\" class=\"dataframe\">\n",
              "  <thead>\n",
              "    <tr style=\"text-align: right;\">\n",
              "      <th></th>\n",
              "      <th>Open</th>\n",
              "      <th>High</th>\n",
              "      <th>Low</th>\n",
              "      <th>Close</th>\n",
              "      <th>Volume</th>\n",
              "    </tr>\n",
              "    <tr>\n",
              "      <th>Date</th>\n",
              "      <th></th>\n",
              "      <th></th>\n",
              "      <th></th>\n",
              "      <th></th>\n",
              "      <th></th>\n",
              "    </tr>\n",
              "  </thead>\n",
              "  <tbody>\n",
              "    <tr>\n",
              "      <th>2019-05-02</th>\n",
              "      <td>18.366936</td>\n",
              "      <td>20.412345</td>\n",
              "      <td>18.366936</td>\n",
              "      <td>19.953171</td>\n",
              "      <td>2548214</td>\n",
              "    </tr>\n",
              "    <tr>\n",
              "      <th>2019-05-03</th>\n",
              "      <td>20.203629</td>\n",
              "      <td>20.370601</td>\n",
              "      <td>19.285282</td>\n",
              "      <td>19.368769</td>\n",
              "      <td>716700</td>\n",
              "    </tr>\n",
              "    <tr>\n",
              "      <th>2019-05-06</th>\n",
              "      <td>19.160057</td>\n",
              "      <td>19.285286</td>\n",
              "      <td>18.659140</td>\n",
              "      <td>18.951342</td>\n",
              "      <td>643065</td>\n",
              "    </tr>\n",
              "    <tr>\n",
              "      <th>2019-05-07</th>\n",
              "      <td>19.160055</td>\n",
              "      <td>19.660970</td>\n",
              "      <td>18.951340</td>\n",
              "      <td>18.993082</td>\n",
              "      <td>481594</td>\n",
              "    </tr>\n",
              "    <tr>\n",
              "      <th>2019-05-08</th>\n",
              "      <td>19.076570</td>\n",
              "      <td>19.160057</td>\n",
              "      <td>18.784369</td>\n",
              "      <td>18.909597</td>\n",
              "      <td>388315</td>\n",
              "    </tr>\n",
              "  </tbody>\n",
              "</table>\n",
              "</div>\n",
              "    <div class=\"colab-df-buttons\">\n",
              "\n",
              "  <div class=\"colab-df-container\">\n",
              "    <button class=\"colab-df-convert\" onclick=\"convertToInteractive('df-4ac04109-74ef-4ae1-914d-4d830aad5a8c')\"\n",
              "            title=\"Convert this dataframe to an interactive table.\"\n",
              "            style=\"display:none;\">\n",
              "\n",
              "  <svg xmlns=\"http://www.w3.org/2000/svg\" height=\"24px\" viewBox=\"0 -960 960 960\">\n",
              "    <path d=\"M120-120v-720h720v720H120Zm60-500h600v-160H180v160Zm220 220h160v-160H400v160Zm0 220h160v-160H400v160ZM180-400h160v-160H180v160Zm440 0h160v-160H620v160ZM180-180h160v-160H180v160Zm440 0h160v-160H620v160Z\"/>\n",
              "  </svg>\n",
              "    </button>\n",
              "\n",
              "  <style>\n",
              "    .colab-df-container {\n",
              "      display:flex;\n",
              "      gap: 12px;\n",
              "    }\n",
              "\n",
              "    .colab-df-convert {\n",
              "      background-color: #E8F0FE;\n",
              "      border: none;\n",
              "      border-radius: 50%;\n",
              "      cursor: pointer;\n",
              "      display: none;\n",
              "      fill: #1967D2;\n",
              "      height: 32px;\n",
              "      padding: 0 0 0 0;\n",
              "      width: 32px;\n",
              "    }\n",
              "\n",
              "    .colab-df-convert:hover {\n",
              "      background-color: #E2EBFA;\n",
              "      box-shadow: 0px 1px 2px rgba(60, 64, 67, 0.3), 0px 1px 3px 1px rgba(60, 64, 67, 0.15);\n",
              "      fill: #174EA6;\n",
              "    }\n",
              "\n",
              "    .colab-df-buttons div {\n",
              "      margin-bottom: 4px;\n",
              "    }\n",
              "\n",
              "    [theme=dark] .colab-df-convert {\n",
              "      background-color: #3B4455;\n",
              "      fill: #D2E3FC;\n",
              "    }\n",
              "\n",
              "    [theme=dark] .colab-df-convert:hover {\n",
              "      background-color: #434B5C;\n",
              "      box-shadow: 0px 1px 3px 1px rgba(0, 0, 0, 0.15);\n",
              "      filter: drop-shadow(0px 1px 2px rgba(0, 0, 0, 0.3));\n",
              "      fill: #FFFFFF;\n",
              "    }\n",
              "  </style>\n",
              "\n",
              "    <script>\n",
              "      const buttonEl =\n",
              "        document.querySelector('#df-4ac04109-74ef-4ae1-914d-4d830aad5a8c button.colab-df-convert');\n",
              "      buttonEl.style.display =\n",
              "        google.colab.kernel.accessAllowed ? 'block' : 'none';\n",
              "\n",
              "      async function convertToInteractive(key) {\n",
              "        const element = document.querySelector('#df-4ac04109-74ef-4ae1-914d-4d830aad5a8c');\n",
              "        const dataTable =\n",
              "          await google.colab.kernel.invokeFunction('convertToInteractive',\n",
              "                                                    [key], {});\n",
              "        if (!dataTable) return;\n",
              "\n",
              "        const docLinkHtml = 'Like what you see? Visit the ' +\n",
              "          '<a target=\"_blank\" href=https://colab.research.google.com/notebooks/data_table.ipynb>data table notebook</a>'\n",
              "          + ' to learn more about interactive tables.';\n",
              "        element.innerHTML = '';\n",
              "        dataTable['output_type'] = 'display_data';\n",
              "        await google.colab.output.renderOutput(dataTable, element);\n",
              "        const docLink = document.createElement('div');\n",
              "        docLink.innerHTML = docLinkHtml;\n",
              "        element.appendChild(docLink);\n",
              "      }\n",
              "    </script>\n",
              "  </div>\n",
              "\n",
              "\n",
              "<div id=\"df-3e6914a9-2e7a-422c-8ae1-f44ae7e5a8ac\">\n",
              "  <button class=\"colab-df-quickchart\" onclick=\"quickchart('df-3e6914a9-2e7a-422c-8ae1-f44ae7e5a8ac')\"\n",
              "            title=\"Suggest charts\"\n",
              "            style=\"display:none;\">\n",
              "\n",
              "<svg xmlns=\"http://www.w3.org/2000/svg\" height=\"24px\"viewBox=\"0 0 24 24\"\n",
              "     width=\"24px\">\n",
              "    <g>\n",
              "        <path d=\"M19 3H5c-1.1 0-2 .9-2 2v14c0 1.1.9 2 2 2h14c1.1 0 2-.9 2-2V5c0-1.1-.9-2-2-2zM9 17H7v-7h2v7zm4 0h-2V7h2v10zm4 0h-2v-4h2v4z\"/>\n",
              "    </g>\n",
              "</svg>\n",
              "  </button>\n",
              "\n",
              "<style>\n",
              "  .colab-df-quickchart {\n",
              "      --bg-color: #E8F0FE;\n",
              "      --fill-color: #1967D2;\n",
              "      --hover-bg-color: #E2EBFA;\n",
              "      --hover-fill-color: #174EA6;\n",
              "      --disabled-fill-color: #AAA;\n",
              "      --disabled-bg-color: #DDD;\n",
              "  }\n",
              "\n",
              "  [theme=dark] .colab-df-quickchart {\n",
              "      --bg-color: #3B4455;\n",
              "      --fill-color: #D2E3FC;\n",
              "      --hover-bg-color: #434B5C;\n",
              "      --hover-fill-color: #FFFFFF;\n",
              "      --disabled-bg-color: #3B4455;\n",
              "      --disabled-fill-color: #666;\n",
              "  }\n",
              "\n",
              "  .colab-df-quickchart {\n",
              "    background-color: var(--bg-color);\n",
              "    border: none;\n",
              "    border-radius: 50%;\n",
              "    cursor: pointer;\n",
              "    display: none;\n",
              "    fill: var(--fill-color);\n",
              "    height: 32px;\n",
              "    padding: 0;\n",
              "    width: 32px;\n",
              "  }\n",
              "\n",
              "  .colab-df-quickchart:hover {\n",
              "    background-color: var(--hover-bg-color);\n",
              "    box-shadow: 0 1px 2px rgba(60, 64, 67, 0.3), 0 1px 3px 1px rgba(60, 64, 67, 0.15);\n",
              "    fill: var(--button-hover-fill-color);\n",
              "  }\n",
              "\n",
              "  .colab-df-quickchart-complete:disabled,\n",
              "  .colab-df-quickchart-complete:disabled:hover {\n",
              "    background-color: var(--disabled-bg-color);\n",
              "    fill: var(--disabled-fill-color);\n",
              "    box-shadow: none;\n",
              "  }\n",
              "\n",
              "  .colab-df-spinner {\n",
              "    border: 2px solid var(--fill-color);\n",
              "    border-color: transparent;\n",
              "    border-bottom-color: var(--fill-color);\n",
              "    animation:\n",
              "      spin 1s steps(1) infinite;\n",
              "  }\n",
              "\n",
              "  @keyframes spin {\n",
              "    0% {\n",
              "      border-color: transparent;\n",
              "      border-bottom-color: var(--fill-color);\n",
              "      border-left-color: var(--fill-color);\n",
              "    }\n",
              "    20% {\n",
              "      border-color: transparent;\n",
              "      border-left-color: var(--fill-color);\n",
              "      border-top-color: var(--fill-color);\n",
              "    }\n",
              "    30% {\n",
              "      border-color: transparent;\n",
              "      border-left-color: var(--fill-color);\n",
              "      border-top-color: var(--fill-color);\n",
              "      border-right-color: var(--fill-color);\n",
              "    }\n",
              "    40% {\n",
              "      border-color: transparent;\n",
              "      border-right-color: var(--fill-color);\n",
              "      border-top-color: var(--fill-color);\n",
              "    }\n",
              "    60% {\n",
              "      border-color: transparent;\n",
              "      border-right-color: var(--fill-color);\n",
              "    }\n",
              "    80% {\n",
              "      border-color: transparent;\n",
              "      border-right-color: var(--fill-color);\n",
              "      border-bottom-color: var(--fill-color);\n",
              "    }\n",
              "    90% {\n",
              "      border-color: transparent;\n",
              "      border-bottom-color: var(--fill-color);\n",
              "    }\n",
              "  }\n",
              "</style>\n",
              "\n",
              "  <script>\n",
              "    async function quickchart(key) {\n",
              "      const quickchartButtonEl =\n",
              "        document.querySelector('#' + key + ' button');\n",
              "      quickchartButtonEl.disabled = true;  // To prevent multiple clicks.\n",
              "      quickchartButtonEl.classList.add('colab-df-spinner');\n",
              "      try {\n",
              "        const charts = await google.colab.kernel.invokeFunction(\n",
              "            'suggestCharts', [key], {});\n",
              "      } catch (error) {\n",
              "        console.error('Error during call to suggestCharts:', error);\n",
              "      }\n",
              "      quickchartButtonEl.classList.remove('colab-df-spinner');\n",
              "      quickchartButtonEl.classList.add('colab-df-quickchart-complete');\n",
              "    }\n",
              "    (() => {\n",
              "      let quickchartButtonEl =\n",
              "        document.querySelector('#df-3e6914a9-2e7a-422c-8ae1-f44ae7e5a8ac button');\n",
              "      quickchartButtonEl.style.display =\n",
              "        google.colab.kernel.accessAllowed ? 'block' : 'none';\n",
              "    })();\n",
              "  </script>\n",
              "</div>\n",
              "\n",
              "    </div>\n",
              "  </div>\n"
            ],
            "application/vnd.google.colaboratory.intrinsic+json": {
              "type": "dataframe",
              "summary": "{\n  \"name\": \"#RVNL\",\n  \"rows\": 5,\n  \"fields\": [\n    {\n      \"column\": \"Date\",\n      \"properties\": {\n        \"dtype\": \"date\",\n        \"min\": \"2019-05-02 00:00:00\",\n        \"max\": \"2019-05-08 00:00:00\",\n        \"num_unique_values\": 5,\n        \"samples\": [\n          \"2019-05-03 00:00:00\",\n          \"2019-05-08 00:00:00\",\n          \"2019-05-06 00:00:00\"\n        ],\n        \"semantic_type\": \"\",\n        \"description\": \"\"\n      }\n    },\n    {\n      \"column\": \"Open\",\n      \"properties\": {\n        \"dtype\": \"number\",\n        \"std\": 0.6556446150727087,\n        \"min\": 18.366935735837156,\n        \"max\": 20.203629384045414,\n        \"num_unique_values\": 5,\n        \"samples\": [\n          20.203629384045414,\n          19.076570199055578,\n          19.160056838192197\n        ],\n        \"semantic_type\": \"\",\n        \"description\": \"\"\n      }\n    },\n    {\n      \"column\": \"High\",\n      \"properties\": {\n        \"dtype\": \"number\",\n        \"std\": 0.5898912101762323,\n        \"min\": 19.160056600158075,\n        \"max\": 20.412345125185382,\n        \"num_unique_values\": 5,\n        \"samples\": [\n          20.370600567028937,\n          19.160056600158075,\n          19.285285645216387\n        ],\n        \"semantic_type\": \"\",\n        \"description\": \"\"\n      }\n    },\n    {\n      \"column\": \"Low\",\n      \"properties\": {\n        \"dtype\": \"number\",\n        \"std\": 0.34117081079749656,\n        \"min\": 18.366935735837156,\n        \"max\": 19.285282304339642,\n        \"num_unique_values\": 5,\n        \"samples\": [\n          19.285282304339642,\n          18.78436859138217,\n          18.659140017724756\n        ],\n        \"semantic_type\": \"\",\n        \"description\": \"\"\n      }\n    },\n    {\n      \"column\": \"Close\",\n      \"properties\": {\n        \"dtype\": \"number\",\n        \"std\": 0.44117353848685903,\n        \"min\": 18.909597396850586,\n        \"max\": 19.953170776367188,\n        \"num_unique_values\": 5,\n        \"samples\": [\n          19.3687686920166,\n          18.909597396850586,\n          18.95134162902832\n        ],\n        \"semantic_type\": \"\",\n        \"description\": \"\"\n      }\n    },\n    {\n      \"column\": \"Volume\",\n      \"properties\": {\n        \"dtype\": \"number\",\n        \"std\": 899675,\n        \"min\": 388315,\n        \"max\": 2548214,\n        \"num_unique_values\": 5,\n        \"samples\": [\n          716700,\n          388315,\n          643065\n        ],\n        \"semantic_type\": \"\",\n        \"description\": \"\"\n      }\n    }\n  ]\n}"
            }
          },
          "metadata": {},
          "execution_count": 4
        }
      ]
    },
    {
      "cell_type": "code",
      "source": [
        "data.shape"
      ],
      "metadata": {
        "colab": {
          "base_uri": "https://localhost:8080/"
        },
        "id": "GhCk3WBgPLc0",
        "outputId": "ec606e88-ec68-4637-db2a-0124773f8f61"
      },
      "execution_count": null,
      "outputs": [
        {
          "output_type": "execute_result",
          "data": {
            "text/plain": [
              "(1288, 5)"
            ]
          },
          "metadata": {},
          "execution_count": 5
        }
      ]
    },
    {
      "cell_type": "code",
      "source": [
        "data.describe()"
      ],
      "metadata": {
        "colab": {
          "base_uri": "https://localhost:8080/",
          "height": 300
        },
        "id": "hAeL8Gw7Phfu",
        "outputId": "b6a4f277-043f-4a8e-f61f-e947dece830d"
      },
      "execution_count": null,
      "outputs": [
        {
          "output_type": "execute_result",
          "data": {
            "text/plain": [
              "              Open         High          Low        Close        Volume\n",
              "count  1288.000000  1288.000000  1288.000000  1288.000000  1.288000e+03\n",
              "mean     80.336917    82.366242    78.393778    80.251176  1.395969e+06\n",
              "std     113.294994   116.764587   109.946756   113.209410  2.160306e+06\n",
              "min       8.672603     9.845708     8.546911     9.217257  4.651000e+04\n",
              "25%      20.696935    21.065124    20.194176    20.535518  3.777668e+05\n",
              "50%      29.988152    30.293505    29.589765    29.852194  7.226370e+05\n",
              "75%      74.438032    75.535653    72.731254    73.708767  1.449836e+06\n",
              "max     638.400024   647.000000   622.900024   630.000000  2.426116e+07"
            ],
            "text/html": [
              "\n",
              "  <div id=\"df-a3e737bb-be83-47a9-b603-34d70185a28b\" class=\"colab-df-container\">\n",
              "    <div>\n",
              "<style scoped>\n",
              "    .dataframe tbody tr th:only-of-type {\n",
              "        vertical-align: middle;\n",
              "    }\n",
              "\n",
              "    .dataframe tbody tr th {\n",
              "        vertical-align: top;\n",
              "    }\n",
              "\n",
              "    .dataframe thead th {\n",
              "        text-align: right;\n",
              "    }\n",
              "</style>\n",
              "<table border=\"1\" class=\"dataframe\">\n",
              "  <thead>\n",
              "    <tr style=\"text-align: right;\">\n",
              "      <th></th>\n",
              "      <th>Open</th>\n",
              "      <th>High</th>\n",
              "      <th>Low</th>\n",
              "      <th>Close</th>\n",
              "      <th>Volume</th>\n",
              "    </tr>\n",
              "  </thead>\n",
              "  <tbody>\n",
              "    <tr>\n",
              "      <th>count</th>\n",
              "      <td>1288.000000</td>\n",
              "      <td>1288.000000</td>\n",
              "      <td>1288.000000</td>\n",
              "      <td>1288.000000</td>\n",
              "      <td>1.288000e+03</td>\n",
              "    </tr>\n",
              "    <tr>\n",
              "      <th>mean</th>\n",
              "      <td>80.336917</td>\n",
              "      <td>82.366242</td>\n",
              "      <td>78.393778</td>\n",
              "      <td>80.251176</td>\n",
              "      <td>1.395969e+06</td>\n",
              "    </tr>\n",
              "    <tr>\n",
              "      <th>std</th>\n",
              "      <td>113.294994</td>\n",
              "      <td>116.764587</td>\n",
              "      <td>109.946756</td>\n",
              "      <td>113.209410</td>\n",
              "      <td>2.160306e+06</td>\n",
              "    </tr>\n",
              "    <tr>\n",
              "      <th>min</th>\n",
              "      <td>8.672603</td>\n",
              "      <td>9.845708</td>\n",
              "      <td>8.546911</td>\n",
              "      <td>9.217257</td>\n",
              "      <td>4.651000e+04</td>\n",
              "    </tr>\n",
              "    <tr>\n",
              "      <th>25%</th>\n",
              "      <td>20.696935</td>\n",
              "      <td>21.065124</td>\n",
              "      <td>20.194176</td>\n",
              "      <td>20.535518</td>\n",
              "      <td>3.777668e+05</td>\n",
              "    </tr>\n",
              "    <tr>\n",
              "      <th>50%</th>\n",
              "      <td>29.988152</td>\n",
              "      <td>30.293505</td>\n",
              "      <td>29.589765</td>\n",
              "      <td>29.852194</td>\n",
              "      <td>7.226370e+05</td>\n",
              "    </tr>\n",
              "    <tr>\n",
              "      <th>75%</th>\n",
              "      <td>74.438032</td>\n",
              "      <td>75.535653</td>\n",
              "      <td>72.731254</td>\n",
              "      <td>73.708767</td>\n",
              "      <td>1.449836e+06</td>\n",
              "    </tr>\n",
              "    <tr>\n",
              "      <th>max</th>\n",
              "      <td>638.400024</td>\n",
              "      <td>647.000000</td>\n",
              "      <td>622.900024</td>\n",
              "      <td>630.000000</td>\n",
              "      <td>2.426116e+07</td>\n",
              "    </tr>\n",
              "  </tbody>\n",
              "</table>\n",
              "</div>\n",
              "    <div class=\"colab-df-buttons\">\n",
              "\n",
              "  <div class=\"colab-df-container\">\n",
              "    <button class=\"colab-df-convert\" onclick=\"convertToInteractive('df-a3e737bb-be83-47a9-b603-34d70185a28b')\"\n",
              "            title=\"Convert this dataframe to an interactive table.\"\n",
              "            style=\"display:none;\">\n",
              "\n",
              "  <svg xmlns=\"http://www.w3.org/2000/svg\" height=\"24px\" viewBox=\"0 -960 960 960\">\n",
              "    <path d=\"M120-120v-720h720v720H120Zm60-500h600v-160H180v160Zm220 220h160v-160H400v160Zm0 220h160v-160H400v160ZM180-400h160v-160H180v160Zm440 0h160v-160H620v160ZM180-180h160v-160H180v160Zm440 0h160v-160H620v160Z\"/>\n",
              "  </svg>\n",
              "    </button>\n",
              "\n",
              "  <style>\n",
              "    .colab-df-container {\n",
              "      display:flex;\n",
              "      gap: 12px;\n",
              "    }\n",
              "\n",
              "    .colab-df-convert {\n",
              "      background-color: #E8F0FE;\n",
              "      border: none;\n",
              "      border-radius: 50%;\n",
              "      cursor: pointer;\n",
              "      display: none;\n",
              "      fill: #1967D2;\n",
              "      height: 32px;\n",
              "      padding: 0 0 0 0;\n",
              "      width: 32px;\n",
              "    }\n",
              "\n",
              "    .colab-df-convert:hover {\n",
              "      background-color: #E2EBFA;\n",
              "      box-shadow: 0px 1px 2px rgba(60, 64, 67, 0.3), 0px 1px 3px 1px rgba(60, 64, 67, 0.15);\n",
              "      fill: #174EA6;\n",
              "    }\n",
              "\n",
              "    .colab-df-buttons div {\n",
              "      margin-bottom: 4px;\n",
              "    }\n",
              "\n",
              "    [theme=dark] .colab-df-convert {\n",
              "      background-color: #3B4455;\n",
              "      fill: #D2E3FC;\n",
              "    }\n",
              "\n",
              "    [theme=dark] .colab-df-convert:hover {\n",
              "      background-color: #434B5C;\n",
              "      box-shadow: 0px 1px 3px 1px rgba(0, 0, 0, 0.15);\n",
              "      filter: drop-shadow(0px 1px 2px rgba(0, 0, 0, 0.3));\n",
              "      fill: #FFFFFF;\n",
              "    }\n",
              "  </style>\n",
              "\n",
              "    <script>\n",
              "      const buttonEl =\n",
              "        document.querySelector('#df-a3e737bb-be83-47a9-b603-34d70185a28b button.colab-df-convert');\n",
              "      buttonEl.style.display =\n",
              "        google.colab.kernel.accessAllowed ? 'block' : 'none';\n",
              "\n",
              "      async function convertToInteractive(key) {\n",
              "        const element = document.querySelector('#df-a3e737bb-be83-47a9-b603-34d70185a28b');\n",
              "        const dataTable =\n",
              "          await google.colab.kernel.invokeFunction('convertToInteractive',\n",
              "                                                    [key], {});\n",
              "        if (!dataTable) return;\n",
              "\n",
              "        const docLinkHtml = 'Like what you see? Visit the ' +\n",
              "          '<a target=\"_blank\" href=https://colab.research.google.com/notebooks/data_table.ipynb>data table notebook</a>'\n",
              "          + ' to learn more about interactive tables.';\n",
              "        element.innerHTML = '';\n",
              "        dataTable['output_type'] = 'display_data';\n",
              "        await google.colab.output.renderOutput(dataTable, element);\n",
              "        const docLink = document.createElement('div');\n",
              "        docLink.innerHTML = docLinkHtml;\n",
              "        element.appendChild(docLink);\n",
              "      }\n",
              "    </script>\n",
              "  </div>\n",
              "\n",
              "\n",
              "<div id=\"df-9e3bbec7-33ea-4292-9267-bcd1dc181424\">\n",
              "  <button class=\"colab-df-quickchart\" onclick=\"quickchart('df-9e3bbec7-33ea-4292-9267-bcd1dc181424')\"\n",
              "            title=\"Suggest charts\"\n",
              "            style=\"display:none;\">\n",
              "\n",
              "<svg xmlns=\"http://www.w3.org/2000/svg\" height=\"24px\"viewBox=\"0 0 24 24\"\n",
              "     width=\"24px\">\n",
              "    <g>\n",
              "        <path d=\"M19 3H5c-1.1 0-2 .9-2 2v14c0 1.1.9 2 2 2h14c1.1 0 2-.9 2-2V5c0-1.1-.9-2-2-2zM9 17H7v-7h2v7zm4 0h-2V7h2v10zm4 0h-2v-4h2v4z\"/>\n",
              "    </g>\n",
              "</svg>\n",
              "  </button>\n",
              "\n",
              "<style>\n",
              "  .colab-df-quickchart {\n",
              "      --bg-color: #E8F0FE;\n",
              "      --fill-color: #1967D2;\n",
              "      --hover-bg-color: #E2EBFA;\n",
              "      --hover-fill-color: #174EA6;\n",
              "      --disabled-fill-color: #AAA;\n",
              "      --disabled-bg-color: #DDD;\n",
              "  }\n",
              "\n",
              "  [theme=dark] .colab-df-quickchart {\n",
              "      --bg-color: #3B4455;\n",
              "      --fill-color: #D2E3FC;\n",
              "      --hover-bg-color: #434B5C;\n",
              "      --hover-fill-color: #FFFFFF;\n",
              "      --disabled-bg-color: #3B4455;\n",
              "      --disabled-fill-color: #666;\n",
              "  }\n",
              "\n",
              "  .colab-df-quickchart {\n",
              "    background-color: var(--bg-color);\n",
              "    border: none;\n",
              "    border-radius: 50%;\n",
              "    cursor: pointer;\n",
              "    display: none;\n",
              "    fill: var(--fill-color);\n",
              "    height: 32px;\n",
              "    padding: 0;\n",
              "    width: 32px;\n",
              "  }\n",
              "\n",
              "  .colab-df-quickchart:hover {\n",
              "    background-color: var(--hover-bg-color);\n",
              "    box-shadow: 0 1px 2px rgba(60, 64, 67, 0.3), 0 1px 3px 1px rgba(60, 64, 67, 0.15);\n",
              "    fill: var(--button-hover-fill-color);\n",
              "  }\n",
              "\n",
              "  .colab-df-quickchart-complete:disabled,\n",
              "  .colab-df-quickchart-complete:disabled:hover {\n",
              "    background-color: var(--disabled-bg-color);\n",
              "    fill: var(--disabled-fill-color);\n",
              "    box-shadow: none;\n",
              "  }\n",
              "\n",
              "  .colab-df-spinner {\n",
              "    border: 2px solid var(--fill-color);\n",
              "    border-color: transparent;\n",
              "    border-bottom-color: var(--fill-color);\n",
              "    animation:\n",
              "      spin 1s steps(1) infinite;\n",
              "  }\n",
              "\n",
              "  @keyframes spin {\n",
              "    0% {\n",
              "      border-color: transparent;\n",
              "      border-bottom-color: var(--fill-color);\n",
              "      border-left-color: var(--fill-color);\n",
              "    }\n",
              "    20% {\n",
              "      border-color: transparent;\n",
              "      border-left-color: var(--fill-color);\n",
              "      border-top-color: var(--fill-color);\n",
              "    }\n",
              "    30% {\n",
              "      border-color: transparent;\n",
              "      border-left-color: var(--fill-color);\n",
              "      border-top-color: var(--fill-color);\n",
              "      border-right-color: var(--fill-color);\n",
              "    }\n",
              "    40% {\n",
              "      border-color: transparent;\n",
              "      border-right-color: var(--fill-color);\n",
              "      border-top-color: var(--fill-color);\n",
              "    }\n",
              "    60% {\n",
              "      border-color: transparent;\n",
              "      border-right-color: var(--fill-color);\n",
              "    }\n",
              "    80% {\n",
              "      border-color: transparent;\n",
              "      border-right-color: var(--fill-color);\n",
              "      border-bottom-color: var(--fill-color);\n",
              "    }\n",
              "    90% {\n",
              "      border-color: transparent;\n",
              "      border-bottom-color: var(--fill-color);\n",
              "    }\n",
              "  }\n",
              "</style>\n",
              "\n",
              "  <script>\n",
              "    async function quickchart(key) {\n",
              "      const quickchartButtonEl =\n",
              "        document.querySelector('#' + key + ' button');\n",
              "      quickchartButtonEl.disabled = true;  // To prevent multiple clicks.\n",
              "      quickchartButtonEl.classList.add('colab-df-spinner');\n",
              "      try {\n",
              "        const charts = await google.colab.kernel.invokeFunction(\n",
              "            'suggestCharts', [key], {});\n",
              "      } catch (error) {\n",
              "        console.error('Error during call to suggestCharts:', error);\n",
              "      }\n",
              "      quickchartButtonEl.classList.remove('colab-df-spinner');\n",
              "      quickchartButtonEl.classList.add('colab-df-quickchart-complete');\n",
              "    }\n",
              "    (() => {\n",
              "      let quickchartButtonEl =\n",
              "        document.querySelector('#df-9e3bbec7-33ea-4292-9267-bcd1dc181424 button');\n",
              "      quickchartButtonEl.style.display =\n",
              "        google.colab.kernel.accessAllowed ? 'block' : 'none';\n",
              "    })();\n",
              "  </script>\n",
              "</div>\n",
              "\n",
              "    </div>\n",
              "  </div>\n"
            ],
            "application/vnd.google.colaboratory.intrinsic+json": {
              "type": "dataframe",
              "summary": "{\n  \"name\": \"data\",\n  \"rows\": 8,\n  \"fields\": [\n    {\n      \"column\": \"Open\",\n      \"properties\": {\n        \"dtype\": \"number\",\n        \"std\": 456.3464950781895,\n        \"min\": 8.67260264684137,\n        \"max\": 1288.0,\n        \"num_unique_values\": 8,\n        \"samples\": [\n          80.33691733776762,\n          29.98815243326778,\n          1288.0\n        ],\n        \"semantic_type\": \"\",\n        \"description\": \"\"\n      }\n    },\n    {\n      \"column\": \"High\",\n      \"properties\": {\n        \"dtype\": \"number\",\n        \"std\": 456.77884474044293,\n        \"min\": 9.845707955994838,\n        \"max\": 1288.0,\n        \"num_unique_values\": 8,\n        \"samples\": [\n          82.36624210727479,\n          30.293504655566345,\n          1288.0\n        ],\n        \"semantic_type\": \"\",\n        \"description\": \"\"\n      }\n    },\n    {\n      \"column\": \"Low\",\n      \"properties\": {\n        \"dtype\": \"number\",\n        \"std\": 455.13691985125007,\n        \"min\": 8.546911339894077,\n        \"max\": 1288.0,\n        \"num_unique_values\": 8,\n        \"samples\": [\n          78.3937782384391,\n          29.589765067342675,\n          1288.0\n        ],\n        \"semantic_type\": \"\",\n        \"description\": \"\"\n      }\n    },\n    {\n      \"column\": \"Close\",\n      \"properties\": {\n        \"dtype\": \"number\",\n        \"std\": 455.4518875828654,\n        \"min\": 9.217257499694824,\n        \"max\": 1288.0,\n        \"num_unique_values\": 8,\n        \"samples\": [\n          80.251175764925,\n          29.85219383239746,\n          1288.0\n        ],\n        \"semantic_type\": \"\",\n        \"description\": \"\"\n      }\n    },\n    {\n      \"column\": \"Volume\",\n      \"properties\": {\n        \"dtype\": \"number\",\n        \"std\": 8301041.35820926,\n        \"min\": 1288.0,\n        \"max\": 24261160.0,\n        \"num_unique_values\": 8,\n        \"samples\": [\n          1395968.7531055901,\n          722637.0,\n          1288.0\n        ],\n        \"semantic_type\": \"\",\n        \"description\": \"\"\n      }\n    }\n  ]\n}"
            }
          },
          "metadata": {},
          "execution_count": 6
        }
      ]
    },
    {
      "cell_type": "code",
      "source": [
        "data.Close.plot(figsize=(20,7),color='r')           #plot the stocks\n",
        "plt.ylabel(\"{}prices\".format(stocks))\n",
        "plt.title(\"{} Price Series\".format(stocks))\n",
        "plt.show()"
      ],
      "metadata": {
        "colab": {
          "base_uri": "https://localhost:8080/",
          "height": 412
        },
        "id": "YSK79YQnPqFq",
        "outputId": "97da6542-ecbd-4e54-ef6a-b90b7f4c3951"
      },
      "execution_count": null,
      "outputs": [
        {
          "output_type": "display_data",
          "data": {
            "text/plain": [
              "<Figure size 2000x700 with 1 Axes>"
            ],
            "image/png": "[encoded data removed]"
          },
          "metadata": {}
        }
      ]
    },
    {
      "cell_type": "code",
      "source": [
        "sns.distplot(data[\"Close\"])"
      ],
      "metadata": {
        "colab": {
          "base_uri": "https://localhost:8080/",
          "height": 657
        },
        "id": "b7kwJ_B9RTfL",
        "outputId": "3a537ec6-ec1a-4bfa-e9e0-57d48bd2f26a"
      },
      "execution_count": null,
      "outputs": [
        {
          "output_type": "stream",
          "name": "stderr",
          "text": [
            "<ipython-input-8-7576e4f36f65>:1: UserWarning: \n",
            "\n",
            "`distplot` is a deprecated function and will be removed in seaborn v0.14.0.\n",
            "\n",
            "Please adapt your code to use either `displot` (a figure-level function with\n",
            "similar flexibility) or `histplot` (an axes-level function for histograms).\n",
            "\n",
            "For a guide to updating your code to use the new functions, please see\n",
            "https://gist.github.com/mwaskom/de44147ed2974457ad6372750bbe5751\n",
            "\n",
            "  sns.distplot(data[\"Close\"])\n"
          ]
        },
        {
          "output_type": "execute_result",
          "data": {
            "text/plain": [
              "<Axes: xlabel='Close', ylabel='Density'>"
            ]
          },
          "metadata": {},
          "execution_count": 8
        },
        {
          "output_type": "display_data",
          "data": {
            "text/plain": [
              "<Figure size 640x480 with 1 Axes>"
            ],
            "image/png": "[encoded data removed]"
          },
          "metadata": {}
        }
      ]
    },
    {
      "cell_type": "code",
      "source": [
        "sns.distplot(data[\"High\"])"
      ],
      "metadata": {
        "colab": {
          "base_uri": "https://localhost:8080/",
          "height": 657
        },
        "id": "I5Tgc2alRtNB",
        "outputId": "b87b7dec-b78e-4d71-9d62-d031571705b8"
      },
      "execution_count": null,
      "outputs": [
        {
          "output_type": "stream",
          "name": "stderr",
          "text": [
            "<ipython-input-9-f105f0b633a7>:1: UserWarning: \n",
            "\n",
            "`distplot` is a deprecated function and will be removed in seaborn v0.14.0.\n",
            "\n",
            "Please adapt your code to use either `displot` (a figure-level function with\n",
            "similar flexibility) or `histplot` (an axes-level function for histograms).\n",
            "\n",
            "For a guide to updating your code to use the new functions, please see\n",
            "https://gist.github.com/mwaskom/de44147ed2974457ad6372750bbe5751\n",
            "\n",
            "  sns.distplot(data[\"High\"])\n"
          ]
        },
        {
          "output_type": "execute_result",
          "data": {
            "text/plain": [
              "<Axes: xlabel='High', ylabel='Density'>"
            ]
          },
          "metadata": {},
          "execution_count": 9
        },
        {
          "output_type": "display_data",
          "data": {
            "text/plain": [
              "<Figure size 640x480 with 1 Axes>"
            ],
            "image/png": "[encoded data removed]"
          },
          "metadata": {}
        }
      ]
    },
    {
      "cell_type": "code",
      "source": [
        "#conclusion\n",
        "#-shape of the data\n",
        "#-how our data is distributed\n",
        "#-its very very non linear\n",
        "\n",
        "X=data.drop(\"Close\",axis =1)\n",
        "y=data['Close']\n",
        "\n",
        "from sklearn.model_selection import train_test_split\n",
        "\n",
        "#splitting the data into training and test set\n",
        "X_train,X_test,y_train,y_test = train_test_split(X,y,test_size=0.2,random_state=69)\n",
        "print(X_train.shape)\n",
        "print(X_test.shape)\n",
        "print(y_train.shape)\n",
        "print(y_test.shape)\n"
      ],
      "metadata": {
        "colab": {
          "base_uri": "https://localhost:8080/"
        },
        "id": "omN0Sr4rR_78",
        "outputId": "e8be90d3-f0d4-4d2f-e0ee-813f529b1531"
      },
      "execution_count": null,
      "outputs": [
        {
          "output_type": "stream",
          "name": "stdout",
          "text": [
            "(1030, 4)\n",
            "(258, 4)\n",
            "(1030,)\n",
            "(258,)\n"
          ]
        }
      ]
    },
    {
      "cell_type": "code",
      "source": [
        "from sklearn.linear_model import LinearRegression\n",
        "# using linear regresison to guess the stock price\n",
        "lr = LinearRegression()\n",
        "lr.fit(X_train,y_train)\n",
        "pred1 = lr.predict(X_test)\n",
        "print(pred1)"
      ],
      "metadata": {
        "colab": {
          "base_uri": "https://localhost:8080/"
        },
        "id": "344bLcZbUXYK",
        "outputId": "f6f6b264-78e9-4bca-fdee-2544fa46e083"
      },
      "execution_count": null,
      "outputs": [
        {
          "output_type": "stream",
          "name": "stdout",
          "text": [
            "[ 17.43006672  14.50094346  14.51331428  15.92026514 116.89112667\n",
            "  16.28035289  12.03581687  22.1024655   19.45524528 392.37612715\n",
            "  66.14088038  31.96255629  14.13545671  26.04812025 387.80769178\n",
            "  19.90833926  32.62250393  25.47332031  49.5406657   19.72991908\n",
            "  20.29206329  70.07403791 336.58936513 257.24636164  70.88871848\n",
            " 130.4473731   17.77090096 161.45255748  21.05792942  24.94968993\n",
            " 413.25501075  15.45145155  73.99895975  32.09163698 287.50359994\n",
            "  18.13885461  16.14103467 257.69685898  32.53240737 416.61419323\n",
            " 161.24394952 118.07990429 250.23337454  24.92988717  19.75501953\n",
            "  20.02871486  26.71555321  27.86828513  17.53048387  22.64582732\n",
            "  25.44074811  13.47545103 186.59023913  14.27625234 306.44847851\n",
            "  31.97166394  19.31085985  29.96055559 123.9568658   27.63191689\n",
            " 290.73526822 281.82285281  30.12714512  63.17910431  18.92556505\n",
            "  19.39819954  21.67707303  20.32464626  24.30218985  27.07982843\n",
            " 249.53662399  14.7597898   15.16173037  62.40100377 123.01563481\n",
            "  14.20515609 621.1592305   21.44294562  17.01108171  16.90665346\n",
            "  19.99581343  20.04728297 117.53790146  32.78027139  30.78943601\n",
            "  27.36869919  20.83637205  20.63471961 418.96693025  20.81634861\n",
            "  67.19249443  19.28471822  31.66132622  27.71648387  29.21002601\n",
            " 266.97272006  30.03837977 165.88712148 561.8116624  119.64121748\n",
            "  27.83440389  18.89331696  33.45099987  24.03961476  32.8163539\n",
            "  29.66297296  21.94655591  74.43673303  36.8739172  165.95437009\n",
            "  20.95737842 247.4463651   70.93696986  21.17689122  28.63834028\n",
            "  13.66010644  61.6062044   15.9179255   22.93847239  15.675903\n",
            "  27.67659013  28.26133529 305.61199773  32.75225544  15.55482401\n",
            " 632.23443302  32.0617051   33.19360911 427.68377246  26.10259148\n",
            " 154.55235936  20.08975685  23.77301904  24.09754486  18.63883464\n",
            " 518.48001009  27.35972164 156.72088211 583.46917565  29.92326839\n",
            " 124.2429233   22.33220662  15.42764678  29.82581391  19.90098359\n",
            "  20.49245187  32.56541064  21.25791473 127.64646628  20.77324515\n",
            "  27.74795438  20.24815565 239.47703219  67.84596558  25.64537837\n",
            "  27.51778551 264.07496073  33.43107288 185.59381281  22.70640626\n",
            "  29.8433447   23.49675098 125.21642473  16.12782775  19.28847853\n",
            "  76.66879092 169.24036634  20.00871381  31.565412    17.73243881\n",
            "  33.50236846  27.3698153   29.96244742  10.73898725  19.03660857\n",
            "  27.05961606 263.97931804 113.49891379 166.32428261 126.14263659\n",
            "  20.30235777  72.41862966 126.17259017 166.67781239  29.49821103\n",
            "  62.25407597 276.0870693   21.84493967  30.00770989  15.98609209\n",
            " 166.00420309  21.3041054  262.56424828 119.44049772  32.23847585\n",
            "  27.98405541  77.55199851 122.90870058 146.35253297  23.97883163\n",
            "  20.07738456  32.37536977  32.76090709  17.44413227  29.76391049\n",
            "  30.00770731  30.05895528  31.84085035  30.0233523   30.15966499\n",
            "  20.69637801 337.3041925   31.5509706   15.52133332 154.15951748\n",
            "  15.82023496  19.08337982  29.9580141   32.72820142  31.94252968\n",
            "  20.20780794  20.23710409  33.97207596  26.9240585   19.10650634\n",
            "  29.14945349 134.27497225  20.16792024 225.5134134  119.96826237\n",
            "  27.15498734  15.0484656   21.08495715  71.63348473  20.56459936\n",
            "  33.07158219  20.32008971  25.79816668  34.83897769  18.43798577\n",
            " 276.29036816  39.4474477   25.35070175  29.10882891  56.39286833\n",
            " 120.20063902  76.2855552   27.06988623  15.94573064  26.66455115\n",
            "  22.56802714  19.21315915  35.68593632  14.6416753   25.49368086\n",
            " 169.04569843  34.47476355 556.55241207]\n"
          ]
        }
      ]
    },
    {
      "cell_type": "code",
      "source": [
        "y_test"
      ],
      "metadata": {
        "colab": {
          "base_uri": "https://localhost:8080/",
          "height": 489
        },
        "id": "AmZbDtKpVQ6I",
        "outputId": "bfe279e9-a2aa-474e-ec23-b6268312343c"
      },
      "execution_count": null,
      "outputs": [
        {
          "output_type": "execute_result",
          "data": {
            "text/plain": [
              "Date\n",
              "2020-09-01     17.722273\n",
              "2020-05-12     15.082787\n",
              "2020-06-02     14.663821\n",
              "2020-10-20     16.046410\n",
              "2023-05-02    118.142143\n",
              "                 ...    \n",
              "2020-06-01     14.663821\n",
              "2021-08-27     25.607157\n",
              "2023-09-27    168.399994\n",
              "2021-11-12     34.325459\n",
              "2024-08-06    546.049988\n",
              "Name: Close, Length: 258, dtype: float64"
            ],
            "text/html": [
              "<div>\n",
              "<style scoped>\n",
              "    .dataframe tbody tr th:only-of-type {\n",
              "        vertical-align: middle;\n",
              "    }\n",
              "\n",
              "    .dataframe tbody tr th {\n",
              "        vertical-align: top;\n",
              "    }\n",
              "\n",
              "    .dataframe thead th {\n",
              "        text-align: right;\n",
              "    }\n",
              "</style>\n",
              "<table border=\"1\" class=\"dataframe\">\n",
              "  <thead>\n",
              "    <tr style=\"text-align: right;\">\n",
              "      <th></th>\n",
              "      <th>Close</th>\n",
              "    </tr>\n",
              "    <tr>\n",
              "      <th>Date</th>\n",
              "      <th></th>\n",
              "    </tr>\n",
              "  </thead>\n",
              "  <tbody>\n",
              "    <tr>\n",
              "      <th>2020-09-01</th>\n",
              "      <td>17.722273</td>\n",
              "    </tr>\n",
              "    <tr>\n",
              "      <th>2020-05-12</th>\n",
              "      <td>15.082787</td>\n",
              "    </tr>\n",
              "    <tr>\n",
              "      <th>2020-06-02</th>\n",
              "      <td>14.663821</td>\n",
              "    </tr>\n",
              "    <tr>\n",
              "      <th>2020-10-20</th>\n",
              "      <td>16.046410</td>\n",
              "    </tr>\n",
              "    <tr>\n",
              "      <th>2023-05-02</th>\n",
              "      <td>118.142143</td>\n",
              "    </tr>\n",
              "    <tr>\n",
              "      <th>...</th>\n",
              "      <td>...</td>\n",
              "    </tr>\n",
              "    <tr>\n",
              "      <th>2020-06-01</th>\n",
              "      <td>14.663821</td>\n",
              "    </tr>\n",
              "    <tr>\n",
              "      <th>2021-08-27</th>\n",
              "      <td>25.607157</td>\n",
              "    </tr>\n",
              "    <tr>\n",
              "      <th>2023-09-27</th>\n",
              "      <td>168.399994</td>\n",
              "    </tr>\n",
              "    <tr>\n",
              "      <th>2021-11-12</th>\n",
              "      <td>34.325459</td>\n",
              "    </tr>\n",
              "    <tr>\n",
              "      <th>2024-08-06</th>\n",
              "      <td>546.049988</td>\n",
              "    </tr>\n",
              "  </tbody>\n",
              "</table>\n",
              "<p>258 rows × 1 columns</p>\n",
              "</div><br><label><b>dtype:</b> float64</label>"
            ]
          },
          "metadata": {},
          "execution_count": 12
        }
      ]
    },
    {
      "cell_type": "code",
      "source": [
        "#MSE\n",
        "#RMSE\n",
        "#R2 SQUARE ->1 THEN GOOF\n",
        "from sklearn.metrics import mean_squared_error,r2_score\n",
        "\n",
        "\n",
        "def calculate_metrics(ytest, y_pred):\n",
        "  \"\"\"\n",
        "  y_test is a grounf truth\n",
        "  y_pred is predicted value\n",
        "  \"\"\"\n",
        "  mse=mean_squared_error(y_test,y_pred)\n",
        "  rmse=np.sqrt(mse)\n",
        "  r2_scor=r2_score(y_test,y_pred)\n",
        "\n",
        "  print(f\"meansquare erroe is\\n{mse} and rmse is\\n{rmse} and r2 score is\\n{r2_scor}\")\n",
        "\n",
        "\n",
        "calculate_metrics(y_test,pred1)"
      ],
      "metadata": {
        "colab": {
          "base_uri": "https://localhost:8080/"
        },
        "id": "6HDe70QYVZDN",
        "outputId": "a3b6913b-2431-42ea-eb7f-c8d4e762aceb"
      },
      "execution_count": null,
      "outputs": [
        {
          "output_type": "stream",
          "name": "stdout",
          "text": [
            "meansquare erroe is\n",
            "5.004581124117779 and rmse is\n",
            "2.237092113462872 and r2 score is\n",
            "0.9996388535516118\n"
          ]
        }
      ]
    },
    {
      "cell_type": "code",
      "source": [
        "from sklearn.linear_model import Lasso,Ridge\n",
        "la = Lasso().fit(X_train,y_train)\n",
        "ri = Ridge().fit(X_train,y_train)\n",
        "la_p = la.predict(X_test)\n",
        "ri_p = ri.predict(X_test)"
      ],
      "metadata": {
        "colab": {
          "base_uri": "https://localhost:8080/"
        },
        "id": "p1M_1xb43g-5",
        "outputId": "8289eb27-1069-4562-deb7-1156f039572d"
      },
      "execution_count": null,
      "outputs": [
        {
          "output_type": "stream",
          "name": "stderr",
          "text": [
            "/usr/local/lib/python3.10/dist-packages/sklearn/linear_model/_coordinate_descent.py:628: ConvergenceWarning: Objective did not converge. You might want to increase the number of iterations, check the scale of the features or consider increasing regularisation. Duality gap: 5.306e+03, tolerance: 1.292e+03\n",
            "  model = cd_fast.enet_coordinate_descent(\n"
          ]
        }
      ]
    },
    {
      "cell_type": "code",
      "source": [
        "calculate_metrics(y_test,la_p)"
      ],
      "metadata": {
        "colab": {
          "base_uri": "https://localhost:8080/"
        },
        "id": "9z5VLivS5GpJ",
        "outputId": "d1abe762-b1ab-47f1-b80e-154be1ca6218"
      },
      "execution_count": null,
      "outputs": [
        {
          "output_type": "stream",
          "name": "stdout",
          "text": [
            "meansquare erroe is\n",
            "10.086661360167849 and rmse is\n",
            "3.1759504656351063 and r2 score is\n",
            "0.9992721145214802\n"
          ]
        }
      ]
    },
    {
      "cell_type": "code",
      "source": [
        "calculate_metrics(y_test,ri_p)       #less prone to overfitting"
      ],
      "metadata": {
        "colab": {
          "base_uri": "https://localhost:8080/"
        },
        "id": "1ZKZfY0j5as2",
        "outputId": "ac8ea242-4c9f-4c6c-e1b3-6a4ad2931cf2"
      },
      "execution_count": null,
      "outputs": [
        {
          "output_type": "stream",
          "name": "stdout",
          "text": [
            "meansquare erroe is\n",
            "5.003103484018704 and rmse is\n",
            "2.2367618299717793 and r2 score is\n",
            "0.9996389601828084\n"
          ]
        }
      ]
    },
    {
      "cell_type": "code",
      "source": [
        "#using SVM Regressions\n",
        "\n",
        "from sklearn.svm import SVR\n",
        "from sklearn.model_selection import GridSearchCV\n",
        "\n",
        "svr = SVR()\n",
        "\n",
        "param_grid = {'C':[0.1,1,10,100,1000],\n",
        "              'gamma':[1,0.1,0.01,0.001,0.0001],\n",
        "              'kernel':['rbf']}\n",
        "\n",
        "grid = GridSearchCV(SVR(),param_grid,refit=True,verbose=3)\n",
        "grid.fit(X_train,y_train)"
      ],
      "metadata": {
        "colab": {
          "base_uri": "https://localhost:8080/",
          "height": 1000
        },
        "id": "s2wYZqMe5nWz",
        "outputId": "a3f1ae01-c080-49a5-a27d-101f1d097c3a"
      },
      "execution_count": null,
      "outputs": [
        {
          "output_type": "stream",
          "name": "stdout",
          "text": [
            "Fitting 5 folds for each of 25 candidates, totalling 125 fits\n",
            "[CV 1/5] END .......C=0.1, gamma=1, kernel=rbf;, score=-0.167 total time=   0.1s\n",
            "[CV 2/5] END .......C=0.1, gamma=1, kernel=rbf;, score=-0.178 total time=   0.2s\n",
            "[CV 3/5] END .......C=0.1, gamma=1, kernel=rbf;, score=-0.220 total time=   0.2s\n",
            "[CV 4/5] END .......C=0.1, gamma=1, kernel=rbf;, score=-0.217 total time=   0.1s\n",
            "[CV 5/5] END .......C=0.1, gamma=1, kernel=rbf;, score=-0.202 total time=   0.1s\n",
            "[CV 1/5] END .....C=0.1, gamma=0.1, kernel=rbf;, score=-0.167 total time=   0.2s\n",
            "[CV 2/5] END .....C=0.1, gamma=0.1, kernel=rbf;, score=-0.178 total time=   0.1s\n",
            "[CV 3/5] END .....C=0.1, gamma=0.1, kernel=rbf;, score=-0.220 total time=   0.1s\n",
            "[CV 4/5] END .....C=0.1, gamma=0.1, kernel=rbf;, score=-0.217 total time=   0.1s\n",
            "[CV 5/5] END .....C=0.1, gamma=0.1, kernel=rbf;, score=-0.202 total time=   0.2s\n",
            "[CV 1/5] END ....C=0.1, gamma=0.01, kernel=rbf;, score=-0.167 total time=   0.1s\n",
            "[CV 2/5] END ....C=0.1, gamma=0.01, kernel=rbf;, score=-0.178 total time=   0.1s\n",
            "[CV 3/5] END ....C=0.1, gamma=0.01, kernel=rbf;, score=-0.220 total time=   0.1s\n",
            "[CV 4/5] END ....C=0.1, gamma=0.01, kernel=rbf;, score=-0.217 total time=   0.2s\n",
            "[CV 5/5] END ....C=0.1, gamma=0.01, kernel=rbf;, score=-0.202 total time=   0.1s\n",
            "[CV 1/5] END ...C=0.1, gamma=0.001, kernel=rbf;, score=-0.167 total time=   0.1s\n",
            "[CV 2/5] END ...C=0.1, gamma=0.001, kernel=rbf;, score=-0.178 total time=   0.1s\n",
            "[CV 3/5] END ...C=0.1, gamma=0.001, kernel=rbf;, score=-0.220 total time=   0.2s\n",
            "[CV 4/5] END ...C=0.1, gamma=0.001, kernel=rbf;, score=-0.217 total time=   0.3s\n",
            "[CV 5/5] END ...C=0.1, gamma=0.001, kernel=rbf;, score=-0.202 total time=   0.2s\n",
            "[CV 1/5] END ..C=0.1, gamma=0.0001, kernel=rbf;, score=-0.167 total time=   0.1s\n",
            "[CV 2/5] END ..C=0.1, gamma=0.0001, kernel=rbf;, score=-0.178 total time=   0.1s\n",
            "[CV 3/5] END ..C=0.1, gamma=0.0001, kernel=rbf;, score=-0.220 total time=   0.1s\n",
            "[CV 4/5] END ..C=0.1, gamma=0.0001, kernel=rbf;, score=-0.217 total time=   0.1s\n",
            "[CV 5/5] END ..C=0.1, gamma=0.0001, kernel=rbf;, score=-0.202 total time=   0.1s\n",
            "[CV 1/5] END .........C=1, gamma=1, kernel=rbf;, score=-0.166 total time=   0.1s\n",
            "[CV 2/5] END .........C=1, gamma=1, kernel=rbf;, score=-0.177 total time=   0.1s\n",
            "[CV 3/5] END .........C=1, gamma=1, kernel=rbf;, score=-0.219 total time=   0.1s\n",
            "[CV 4/5] END .........C=1, gamma=1, kernel=rbf;, score=-0.216 total time=   0.1s\n",
            "[CV 5/5] END .........C=1, gamma=1, kernel=rbf;, score=-0.202 total time=   0.2s\n",
            "[CV 1/5] END .......C=1, gamma=0.1, kernel=rbf;, score=-0.166 total time=   0.2s\n",
            "[CV 2/5] END .......C=1, gamma=0.1, kernel=rbf;, score=-0.177 total time=   0.3s\n",
            "[CV 3/5] END .......C=1, gamma=0.1, kernel=rbf;, score=-0.219 total time=   0.1s\n",
            "[CV 4/5] END .......C=1, gamma=0.1, kernel=rbf;, score=-0.216 total time=   0.1s\n",
            "[CV 5/5] END .......C=1, gamma=0.1, kernel=rbf;, score=-0.202 total time=   0.1s\n",
            "[CV 1/5] END ......C=1, gamma=0.01, kernel=rbf;, score=-0.166 total time=   0.1s\n",
            "[CV 2/5] END ......C=1, gamma=0.01, kernel=rbf;, score=-0.177 total time=   0.1s\n",
            "[CV 3/5] END ......C=1, gamma=0.01, kernel=rbf;, score=-0.219 total time=   0.1s\n",
            "[CV 4/5] END ......C=1, gamma=0.01, kernel=rbf;, score=-0.216 total time=   0.1s\n",
            "[CV 5/5] END ......C=1, gamma=0.01, kernel=rbf;, score=-0.202 total time=   0.1s\n",
            "[CV 1/5] END .....C=1, gamma=0.001, kernel=rbf;, score=-0.166 total time=   0.1s\n",
            "[CV 2/5] END .....C=1, gamma=0.001, kernel=rbf;, score=-0.177 total time=   0.1s\n",
            "[CV 3/5] END .....C=1, gamma=0.001, kernel=rbf;, score=-0.219 total time=   0.1s\n",
            "[CV 4/5] END .....C=1, gamma=0.001, kernel=rbf;, score=-0.216 total time=   0.1s\n",
            "[CV 5/5] END .....C=1, gamma=0.001, kernel=rbf;, score=-0.202 total time=   0.2s\n",
            "[CV 1/5] END ....C=1, gamma=0.0001, kernel=rbf;, score=-0.166 total time=   0.2s\n",
            "[CV 2/5] END ....C=1, gamma=0.0001, kernel=rbf;, score=-0.177 total time=   0.1s\n",
            "[CV 3/5] END ....C=1, gamma=0.0001, kernel=rbf;, score=-0.219 total time=   0.1s\n",
            "[CV 4/5] END ....C=1, gamma=0.0001, kernel=rbf;, score=-0.216 total time=   0.1s\n",
            "[CV 5/5] END ....C=1, gamma=0.0001, kernel=rbf;, score=-0.201 total time=   0.1s\n",
            "[CV 1/5] END ........C=10, gamma=1, kernel=rbf;, score=-0.161 total time=   0.1s\n",
            "[CV 2/5] END ........C=10, gamma=1, kernel=rbf;, score=-0.172 total time=   0.3s\n",
            "[CV 3/5] END ........C=10, gamma=1, kernel=rbf;, score=-0.213 total time=   0.2s\n",
            "[CV 4/5] END ........C=10, gamma=1, kernel=rbf;, score=-0.212 total time=   0.1s\n",
            "[CV 5/5] END ........C=10, gamma=1, kernel=rbf;, score=-0.195 total time=   0.1s\n",
            "[CV 1/5] END ......C=10, gamma=0.1, kernel=rbf;, score=-0.161 total time=   0.2s\n",
            "[CV 2/5] END ......C=10, gamma=0.1, kernel=rbf;, score=-0.171 total time=   0.2s\n",
            "[CV 3/5] END ......C=10, gamma=0.1, kernel=rbf;, score=-0.213 total time=   0.2s\n",
            "[CV 4/5] END ......C=10, gamma=0.1, kernel=rbf;, score=-0.212 total time=   0.3s\n",
            "[CV 5/5] END ......C=10, gamma=0.1, kernel=rbf;, score=-0.195 total time=   0.3s\n",
            "[CV 1/5] END .....C=10, gamma=0.01, kernel=rbf;, score=-0.161 total time=   0.4s\n",
            "[CV 2/5] END .....C=10, gamma=0.01, kernel=rbf;, score=-0.171 total time=   0.3s\n",
            "[CV 3/5] END .....C=10, gamma=0.01, kernel=rbf;, score=-0.213 total time=   0.4s\n",
            "[CV 4/5] END .....C=10, gamma=0.01, kernel=rbf;, score=-0.212 total time=   0.3s\n",
            "[CV 5/5] END .....C=10, gamma=0.01, kernel=rbf;, score=-0.195 total time=   0.3s\n",
            "[CV 1/5] END ....C=10, gamma=0.001, kernel=rbf;, score=-0.160 total time=   0.2s\n",
            "[CV 2/5] END ....C=10, gamma=0.001, kernel=rbf;, score=-0.170 total time=   0.2s\n",
            "[CV 3/5] END ....C=10, gamma=0.001, kernel=rbf;, score=-0.212 total time=   0.2s\n",
            "[CV 4/5] END ....C=10, gamma=0.001, kernel=rbf;, score=-0.210 total time=   0.3s\n",
            "[CV 5/5] END ....C=10, gamma=0.001, kernel=rbf;, score=-0.194 total time=   0.3s\n",
            "[CV 1/5] END ...C=10, gamma=0.0001, kernel=rbf;, score=-0.156 total time=   0.3s\n",
            "[CV 2/5] END ...C=10, gamma=0.0001, kernel=rbf;, score=-0.168 total time=   0.3s\n",
            "[CV 3/5] END ...C=10, gamma=0.0001, kernel=rbf;, score=-0.208 total time=   0.2s\n",
            "[CV 4/5] END ...C=10, gamma=0.0001, kernel=rbf;, score=-0.207 total time=   0.2s\n",
            "[CV 5/5] END ...C=10, gamma=0.0001, kernel=rbf;, score=-0.192 total time=   0.1s\n",
            "[CV 1/5] END .......C=100, gamma=1, kernel=rbf;, score=-0.020 total time=   0.2s\n",
            "[CV 2/5] END .......C=100, gamma=1, kernel=rbf;, score=-0.026 total time=   0.2s\n",
            "[CV 3/5] END .......C=100, gamma=1, kernel=rbf;, score=-0.059 total time=   0.3s\n",
            "[CV 4/5] END .......C=100, gamma=1, kernel=rbf;, score=-0.052 total time=   0.3s\n",
            "[CV 5/5] END .......C=100, gamma=1, kernel=rbf;, score=-0.036 total time=   0.2s\n",
            "[CV 1/5] END .....C=100, gamma=0.1, kernel=rbf;, score=-0.020 total time=   0.3s\n",
            "[CV 2/5] END .....C=100, gamma=0.1, kernel=rbf;, score=-0.026 total time=   0.2s\n",
            "[CV 3/5] END .....C=100, gamma=0.1, kernel=rbf;, score=-0.059 total time=   0.1s\n",
            "[CV 4/5] END .....C=100, gamma=0.1, kernel=rbf;, score=-0.052 total time=   0.2s\n",
            "[CV 5/5] END .....C=100, gamma=0.1, kernel=rbf;, score=-0.035 total time=   0.3s\n",
            "[CV 1/5] END ....C=100, gamma=0.01, kernel=rbf;, score=-0.019 total time=   0.2s\n",
            "[CV 2/5] END ....C=100, gamma=0.01, kernel=rbf;, score=-0.025 total time=   0.3s\n",
            "[CV 3/5] END ....C=100, gamma=0.01, kernel=rbf;, score=-0.059 total time=   0.4s\n",
            "[CV 4/5] END ....C=100, gamma=0.01, kernel=rbf;, score=-0.051 total time=   0.2s\n",
            "[CV 5/5] END ....C=100, gamma=0.01, kernel=rbf;, score=-0.034 total time=   0.1s\n",
            "[CV 1/5] END ...C=100, gamma=0.001, kernel=rbf;, score=-0.013 total time=   0.2s\n",
            "[CV 2/5] END ...C=100, gamma=0.001, kernel=rbf;, score=-0.023 total time=   0.2s\n",
            "[CV 3/5] END ...C=100, gamma=0.001, kernel=rbf;, score=-0.054 total time=   0.2s\n",
            "[CV 4/5] END ...C=100, gamma=0.001, kernel=rbf;, score=-0.049 total time=   0.2s\n",
            "[CV 5/5] END ...C=100, gamma=0.001, kernel=rbf;, score=-0.031 total time=   0.1s\n",
            "[CV 1/5] END ..C=100, gamma=0.0001, kernel=rbf;, score=-0.002 total time=   0.2s\n",
            "[CV 2/5] END ..C=100, gamma=0.0001, kernel=rbf;, score=-0.015 total time=   0.2s\n",
            "[CV 3/5] END ..C=100, gamma=0.0001, kernel=rbf;, score=-0.043 total time=   0.2s\n",
            "[CV 4/5] END ..C=100, gamma=0.0001, kernel=rbf;, score=-0.039 total time=   0.2s\n",
            "[CV 5/5] END ..C=100, gamma=0.0001, kernel=rbf;, score=-0.022 total time=   0.2s\n",
            "[CV 1/5] END ......C=1000, gamma=1, kernel=rbf;, score=-0.005 total time=   0.2s\n",
            "[CV 2/5] END ......C=1000, gamma=1, kernel=rbf;, score=-0.002 total time=   0.2s\n",
            "[CV 3/5] END ......C=1000, gamma=1, kernel=rbf;, score=-0.005 total time=   0.2s\n",
            "[CV 4/5] END ......C=1000, gamma=1, kernel=rbf;, score=-0.001 total time=   0.2s\n",
            "[CV 5/5] END ......C=1000, gamma=1, kernel=rbf;, score=-0.000 total time=   0.2s\n",
            "[CV 1/5] END ....C=1000, gamma=0.1, kernel=rbf;, score=-0.005 total time=   0.3s\n",
            "[CV 2/5] END ....C=1000, gamma=0.1, kernel=rbf;, score=-0.002 total time=   0.2s\n",
            "[CV 3/5] END ....C=1000, gamma=0.1, kernel=rbf;, score=-0.005 total time=   0.2s\n",
            "[CV 4/5] END ....C=1000, gamma=0.1, kernel=rbf;, score=-0.001 total time=   0.2s\n",
            "[CV 5/5] END .....C=1000, gamma=0.1, kernel=rbf;, score=0.001 total time=   0.2s\n",
            "[CV 1/5] END ...C=1000, gamma=0.01, kernel=rbf;, score=-0.003 total time=   0.2s\n",
            "[CV 2/5] END ...C=1000, gamma=0.01, kernel=rbf;, score=-0.001 total time=   0.2s\n",
            "[CV 3/5] END ...C=1000, gamma=0.01, kernel=rbf;, score=-0.005 total time=   0.2s\n",
            "[CV 4/5] END ....C=1000, gamma=0.01, kernel=rbf;, score=0.001 total time=   0.2s\n",
            "[CV 5/5] END ....C=1000, gamma=0.01, kernel=rbf;, score=0.002 total time=   0.1s\n",
            "[CV 1/5] END ...C=1000, gamma=0.001, kernel=rbf;, score=0.006 total time=   0.1s\n",
            "[CV 2/5] END ...C=1000, gamma=0.001, kernel=rbf;, score=0.002 total time=   0.1s\n",
            "[CV 3/5] END ...C=1000, gamma=0.001, kernel=rbf;, score=0.001 total time=   0.1s\n",
            "[CV 4/5] END ...C=1000, gamma=0.001, kernel=rbf;, score=0.003 total time=   0.1s\n",
            "[CV 5/5] END ...C=1000, gamma=0.001, kernel=rbf;, score=0.011 total time=   0.1s\n",
            "[CV 1/5] END ..C=1000, gamma=0.0001, kernel=rbf;, score=0.023 total time=   0.1s\n",
            "[CV 2/5] END ..C=1000, gamma=0.0001, kernel=rbf;, score=0.016 total time=   0.1s\n",
            "[CV 3/5] END ..C=1000, gamma=0.0001, kernel=rbf;, score=0.015 total time=   0.1s\n",
            "[CV 4/5] END ..C=1000, gamma=0.0001, kernel=rbf;, score=0.015 total time=   0.1s\n",
            "[CV 5/5] END ..C=1000, gamma=0.0001, kernel=rbf;, score=0.030 total time=   0.1s\n"
          ]
        },
        {
          "output_type": "execute_result",
          "data": {
            "text/plain": [
              "GridSearchCV(estimator=SVR(),\n",
              "             param_grid={'C': [0.1, 1, 10, 100, 1000],\n",
              "                         'gamma': [1, 0.1, 0.01, 0.001, 0.0001],\n",
              "                         'kernel': ['rbf']},\n",
              "             verbose=3)"
            ],
            "text/html": [
              "<style>#sk-container-id-1 {color: black;}#sk-container-id-1 pre{padding: 0;}#sk-container-id-1 div.sk-toggleable {background-color: white;}#sk-container-id-1 label.sk-toggleable__label {cursor: pointer;display: block;width: 100%;margin-bottom: 0;padding: 0.3em;box-sizing: border-box;text-align: center;}#sk-container-id-1 label.sk-toggleable__label-arrow:before {content: \"▸\";float: left;margin-right: 0.25em;color: #696969;}#sk-container-id-1 label.sk-toggleable__label-arrow:hover:before {color: black;}#sk-container-id-1 div.sk-estimator:hover label.sk-toggleable__label-arrow:before {color: black;}#sk-container-id-1 div.sk-toggleable__content {max-height: 0;max-width: 0;overflow: hidden;text-align: left;background-color: #f0f8ff;}#sk-container-id-1 div.sk-toggleable__content pre {margin: 0.2em;color: black;border-radius: 0.25em;background-color: #f0f8ff;}#sk-container-id-1 input.sk-toggleable__control:checked~div.sk-toggleable__content {max-height: 200px;max-width: 100%;overflow: auto;}#sk-container-id-1 input.sk-toggleable__control:checked~label.sk-toggleable__label-arrow:before {content: \"▾\";}#sk-container-id-1 div.sk-estimator input.sk-toggleable__control:checked~label.sk-toggleable__label {background-color: #d4ebff;}#sk-container-id-1 div.sk-label input.sk-toggleable__control:checked~label.sk-toggleable__label {background-color: #d4ebff;}#sk-container-id-1 input.sk-hidden--visually {border: 0;clip: rect(1px 1px 1px 1px);clip: rect(1px, 1px, 1px, 1px);height: 1px;margin: -1px;overflow: hidden;padding: 0;position: absolute;width: 1px;}#sk-container-id-1 div.sk-estimator {font-family: monospace;background-color: #f0f8ff;border: 1px dotted black;border-radius: 0.25em;box-sizing: border-box;margin-bottom: 0.5em;}#sk-container-id-1 div.sk-estimator:hover {background-color: #d4ebff;}#sk-container-id-1 div.sk-parallel-item::after {content: \"\";width: 100%;border-bottom: 1px solid gray;flex-grow: 1;}#sk-container-id-1 div.sk-label:hover label.sk-toggleable__label {background-color: #d4ebff;}#sk-container-id-1 div.sk-serial::before {content: \"\";position: absolute;border-left: 1px solid gray;box-sizing: border-box;top: 0;bottom: 0;left: 50%;z-index: 0;}#sk-container-id-1 div.sk-serial {display: flex;flex-direction: column;align-items: center;background-color: white;padding-right: 0.2em;padding-left: 0.2em;position: relative;}#sk-container-id-1 div.sk-item {position: relative;z-index: 1;}#sk-container-id-1 div.sk-parallel {display: flex;align-items: stretch;justify-content: center;background-color: white;position: relative;}#sk-container-id-1 div.sk-item::before, #sk-container-id-1 div.sk-parallel-item::before {content: \"\";position: absolute;border-left: 1px solid gray;box-sizing: border-box;top: 0;bottom: 0;left: 50%;z-index: -1;}#sk-container-id-1 div.sk-parallel-item {display: flex;flex-direction: column;z-index: 1;position: relative;background-color: white;}#sk-container-id-1 div.sk-parallel-item:first-child::after {align-self: flex-end;width: 50%;}#sk-container-id-1 div.sk-parallel-item:last-child::after {align-self: flex-start;width: 50%;}#sk-container-id-1 div.sk-parallel-item:only-child::after {width: 0;}#sk-container-id-1 div.sk-dashed-wrapped {border: 1px dashed gray;margin: 0 0.4em 0.5em 0.4em;box-sizing: border-box;padding-bottom: 0.4em;background-color: white;}#sk-container-id-1 div.sk-label label {font-family: monospace;font-weight: bold;display: inline-block;line-height: 1.2em;}#sk-container-id-1 div.sk-label-container {text-align: center;}#sk-container-id-1 div.sk-container {/* jupyter's `normalize.less` sets `[hidden] { display: none; }` but bootstrap.min.css set `[hidden] { display: none !important; }` so we also need the `!important` here to be able to override the default hidden behavior on the sphinx rendered scikit-learn.org. See: https://github.com/scikit-learn/scikit-learn/issues/21755 */display: inline-block !important;position: relative;}#sk-container-id-1 div.sk-text-repr-fallback {display: none;}</style><div id=\"sk-container-id-1\" class=\"sk-top-container\"><div class=\"sk-text-repr-fallback\"><pre>GridSearchCV(estimator=SVR(),\n",
              "             param_grid={&#x27;C&#x27;: [0.1, 1, 10, 100, 1000],\n",
              "                         &#x27;gamma&#x27;: [1, 0.1, 0.01, 0.001, 0.0001],\n",
              "                         &#x27;kernel&#x27;: [&#x27;rbf&#x27;]},\n",
              "             verbose=3)</pre><b>In a Jupyter environment, please rerun this cell to show the HTML representation or trust the notebook. <br />On GitHub, the HTML representation is unable to render, please try loading this page with nbviewer.org.</b></div><div class=\"sk-container\" hidden><div class=\"sk-item sk-dashed-wrapped\"><div class=\"sk-label-container\"><div class=\"sk-label sk-toggleable\"><input class=\"sk-toggleable__control sk-hidden--visually\" id=\"sk-estimator-id-1\" type=\"checkbox\" ><label for=\"sk-estimator-id-1\" class=\"sk-toggleable__label sk-toggleable__label-arrow\">GridSearchCV</label><div class=\"sk-toggleable__content\"><pre>GridSearchCV(estimator=SVR(),\n",
              "             param_grid={&#x27;C&#x27;: [0.1, 1, 10, 100, 1000],\n",
              "                         &#x27;gamma&#x27;: [1, 0.1, 0.01, 0.001, 0.0001],\n",
              "                         &#x27;kernel&#x27;: [&#x27;rbf&#x27;]},\n",
              "             verbose=3)</pre></div></div></div><div class=\"sk-parallel\"><div class=\"sk-parallel-item\"><div class=\"sk-item\"><div class=\"sk-label-container\"><div class=\"sk-label sk-toggleable\"><input class=\"sk-toggleable__control sk-hidden--visually\" id=\"sk-estimator-id-2\" type=\"checkbox\" ><label for=\"sk-estimator-id-2\" class=\"sk-toggleable__label sk-toggleable__label-arrow\">estimator: SVR</label><div class=\"sk-toggleable__content\"><pre>SVR()</pre></div></div></div><div class=\"sk-serial\"><div class=\"sk-item\"><div class=\"sk-estimator sk-toggleable\"><input class=\"sk-toggleable__control sk-hidden--visually\" id=\"sk-estimator-id-3\" type=\"checkbox\" ><label for=\"sk-estimator-id-3\" class=\"sk-toggleable__label sk-toggleable__label-arrow\">SVR</label><div class=\"sk-toggleable__content\"><pre>SVR()</pre></div></div></div></div></div></div></div></div></div></div>"
            ]
          },
          "metadata": {},
          "execution_count": 17
        }
      ]
    },
    {
      "cell_type": "code",
      "source": [
        "svr = SVR(C=10, gamma=0.1, kernel='rbf')\n",
        "svr.fit(X_train,y_train)\n",
        "svr_pred = svr.predict(X_test)"
      ],
      "metadata": {
        "id": "eVq-mPm086Jf"
      },
      "execution_count": null,
      "outputs": []
    },
    {
      "cell_type": "code",
      "source": [
        "import joblib\n",
        "joblib.dump(ri,'model.pkl')\n",
        "model = joblib.load('model.pkl')"
      ],
      "metadata": {
        "id": "Bfz344nh9n04"
      },
      "execution_count": null,
      "outputs": []
    },
    {
      "cell_type": "code",
      "source": [
        "def preprocess(Open,High,Low,Volume):\n",
        "  test_data=np.array([[Open,High,Low,Volume]])\n",
        "  trained_model=joblib.load(\"model.pkl\")\n",
        "  prediction = trained_model.predict(test_data)\n",
        "  return prediction\n",
        "\n",
        "Open= 570\n",
        "High= 578\n",
        "Low= 562\n",
        "Volume= 222764\n",
        "\n",
        "print(preprocess(Open,High,Low,Volume))\n"
      ],
      "metadata": {
        "id": "8gSwhB4lESAl",
        "colab": {
          "base_uri": "https://localhost:8080/"
        },
        "outputId": "e3024d89-80d6-4991-c0b1-f80e1b0799d4"
      },
      "execution_count": null,
      "outputs": [
        {
          "output_type": "stream",
          "name": "stdout",
          "text": [
            "[569.62984056]\n"
          ]
        },
        {
          "output_type": "stream",
          "name": "stderr",
          "text": [
            "/usr/local/lib/python3.10/dist-packages/sklearn/base.py:465: UserWarning: X does not have valid feature names, but Ridge was fitted with feature names\n",
            "  warnings.warn(\n"
          ]
        }
      ]
    },
    {
      "cell_type": "markdown",
      "source": [],
      "metadata": {
        "id": "_82cPqkHElbt"
      }
    }
  ]
}